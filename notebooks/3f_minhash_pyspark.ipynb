{
  "nbformat": 4,
  "nbformat_minor": 0,
  "metadata": {
    "colab": {
      "name": "minhashLHS.ipynb",
      "provenance": [],
      "collapsed_sections": [],
      "toc_visible": true,
      "mount_file_id": "1kc-smZeq6Rz9IBfi_enzyn9194CIeWNv",
      "authorship_tag": "ABX9TyNzuKiMkUbufAYpx+0IorY9",
      "include_colab_link": true
    },
    "kernelspec": {
      "name": "python3",
      "display_name": "Python 3"
    }
  },
  "cells": [
    {
      "cell_type": "markdown",
      "metadata": {
        "id": "view-in-github",
        "colab_type": "text"
      },
      "source": [
        "<a href=\"https://colab.research.google.com/github/efracondes/CIFAR10_classification/blob/master/notebooks/3f_minhash_pyspark.ipynb\" target=\"_parent\"><img src=\"https://colab.research.google.com/assets/colab-badge.svg\" alt=\"Open In Colab\"/></a>"
      ]
    },
    {
      "cell_type": "markdown",
      "metadata": {
        "id": "5I4qrFG9-Rvf"
      },
      "source": [
        "# 4. *Minhash* con *PySpark*\n",
        "                                                    \n",
        "En este notebook haremos una revisión de como aplicar la técnica de *Minhash* con *PrSpark*.\n",
        "\n",
        "Antes de pasar a los ejemplos debemos instalar nuestro entorno de desarrollo con `PySpark`"
      ]
    },
    {
      "cell_type": "code",
      "metadata": {
        "id": "pSjTC8BUE3Dw",
        "colab": {
          "base_uri": "https://localhost:8080/"
        },
        "outputId": "d5911aca-b1c5-403e-e3f2-132ced77e31c"
      },
      "source": [
        "!pip install pyspark\n",
        "!pip install -U -q PyDrive\n",
        "!apt install openjdk-8-jdk-headless -qq\n",
        "import os\n",
        "os.environ[\"JAVA_HOME\"] = \"/usr/lib/jvm/java-8-openjdk-amd64\""
      ],
      "execution_count": null,
      "outputs": [
        {
          "output_type": "stream",
          "text": [
            "Requirement already satisfied: pyspark in /usr/local/lib/python3.7/dist-packages (3.1.1)\n",
            "Requirement already satisfied: py4j==0.10.9 in /usr/local/lib/python3.7/dist-packages (from pyspark) (0.10.9)\n",
            "openjdk-8-jdk-headless is already the newest version (8u282-b08-0ubuntu1~18.04).\n",
            "0 upgraded, 0 newly installed, 0 to remove and 31 not upgraded.\n"
          ],
          "name": "stdout"
        }
      ]
    },
    {
      "cell_type": "markdown",
      "metadata": {
        "id": "yIF2lMe4Iciv"
      },
      "source": [
        "Para empezar a hacer uso de PySpark es necesario crear una `SparkSession` e importar las bibliotecas necesarias para trabajar"
      ]
    },
    {
      "cell_type": "code",
      "metadata": {
        "id": "lMl3Yv0SLl73",
        "colab": {
          "base_uri": "https://localhost:8080/"
        },
        "outputId": "3e93ec7f-d558-4985-e048-478200801f22"
      },
      "source": [
        "import pyspark\n",
        "# Carga ufnciones extra\n",
        "from pyspark.sql import SparkSession\n",
        "spark = SparkSession.builder.appName('minhash').getOrCreate()\n",
        "\n",
        "# Minhash y texto\n",
        "from pyspark.ml.feature import MinHashLSH\n",
        "from pyspark.ml.linalg import Vectors\n",
        "from pyspark.ml.feature import CountVectorizer\n",
        "from pyspark.sql.functions import col, size\n",
        "import string\n",
        "import nltk\n",
        "nltk.download('stopwords')\n",
        "\n",
        "# Graficar\n",
        "import seaborn as sns"
      ],
      "execution_count": null,
      "outputs": [
        {
          "output_type": "stream",
          "text": [
            "[nltk_data] Downloading package stopwords to /root/nltk_data...\n",
            "[nltk_data]   Package stopwords is already up-to-date!\n"
          ],
          "name": "stdout"
        }
      ]
    },
    {
      "cell_type": "markdown",
      "metadata": {
        "id": "7mGut9JdtxpK"
      },
      "source": [
        "## 4.1 Pero... ¿Qué tenemos que saber antes implementar *Minhash* en *PySpark*?"
      ]
    },
    {
      "cell_type": "markdown",
      "metadata": {
        "id": "XyPsAj8tHXxY"
      },
      "source": [
        "Antes de pasar al ejemplo real, revisemos algunos conceptos en *PySpark*.\n",
        "\n",
        "### 4.1.1 Vectores dispersos\n",
        "\n",
        "Los vectores dispersos pueden ayudarnos a representar matrices dispersas. Una matriz dispersa es una es una matriz donde la mayoria de sus entradas son $0$, es por esto que, para ahorrar espacio, es mas eficiente especificar, por renglon, que columnas el valor no es cero y que valor tiene. \n",
        "\n",
        "Por ejemplo, un renglon de una matriz dispersa puede ser el siguiente\n",
        "\n",
        "$$\n",
        "(1,0,0,0,0,3,0,0,2,0)\n",
        "$$\n",
        "\n",
        "Notemos que este vector puede ser definido especicando los siguientes parametros:\n",
        "\n",
        "1.   El tamano del vector: $10$\n",
        "2.   Las entradas del vector que son distintas de cero: $[0,5,8]$ (Indices desde cero porque `#python` `#computerscience`)\n",
        "3.   Los valores correspondientes a dichas entradas: $[1,3,2]$\n",
        "\n",
        "Nosotros podemos definir vectores dispersos en *PySpark* usando estos parametros de la siguiente manera"
      ]
    },
    {
      "cell_type": "code",
      "metadata": {
        "id": "jkBc5ctLS3s-",
        "colab": {
          "base_uri": "https://localhost:8080/"
        },
        "outputId": "3b9ee5da-ca92-4969-b0c9-b5980502ee77"
      },
      "source": [
        "vector = Vectors.sparse(10, [0, 5, 8], [1, 3, 2])\n",
        "vector.toArray()"
      ],
      "execution_count": 112,
      "outputs": [
        {
          "output_type": "execute_result",
          "data": {
            "text/plain": [
              "array([1., 0., 0., 0., 0., 3., 0., 0., 2., 0.])"
            ]
          },
          "metadata": {
            "tags": []
          },
          "execution_count": 112
        }
      ]
    },
    {
      "cell_type": "markdown",
      "metadata": {
        "id": "7IWD1RU7H6Ya"
      },
      "source": [
        "Podemos crear un DataFrame con vectores dispersos de la siguiente manera"
      ]
    },
    {
      "cell_type": "code",
      "metadata": {
        "colab": {
          "base_uri": "https://localhost:8080/"
        },
        "id": "vbReglilTRvg",
        "outputId": "641b84cd-00bc-456c-cd18-c061e47a67bb"
      },
      "source": [
        "matriz_dispersa = [(Vectors.sparse(6, [0, 1, 2], [1.0, 1.0, 1.0]),),\n",
        "                   (Vectors.sparse(6, [2, 3, 4], [1.0, 1.0, 1.0]),),\n",
        "                   (Vectors.sparse(6, [0, 2, 4], [1.0, 1.0, 1.0]),)]\n",
        "\n",
        "matriz_dispersa = spark.createDataFrame(matriz_dispersa)\n",
        "\n",
        "matriz_dispersa.show()"
      ],
      "execution_count": 114,
      "outputs": [
        {
          "output_type": "stream",
          "text": [
            "+--------------------+\n",
            "|                  _1|\n",
            "+--------------------+\n",
            "|(6,[0,1,2],[1.0,1...|\n",
            "|(6,[2,3,4],[1.0,1...|\n",
            "|(6,[0,2,4],[1.0,1...|\n",
            "+--------------------+\n",
            "\n"
          ],
          "name": "stdout"
        }
      ]
    },
    {
      "cell_type": "markdown",
      "metadata": {
        "id": "MGi8-BjYIh2l"
      },
      "source": [
        "### 4.1.2 *CountVectorizer*\n",
        "\n",
        "*CountVectorizer* es una clase que nos ayuda a extraer el vocabulario de un conjunto de documentos y tambien nos ayuda a generar representaciones dispersas sobre el vocabulario.\n",
        "\n",
        "Por ejemplo, si tenemos los siguientes documentos\n",
        "\n",
        "$$\n",
        "\\begin{split}\n",
        "doc_0 & = abbc \\\\\n",
        "doc_1 & = bcd \\\\\n",
        "doc_2 & = ac \n",
        "\\end{split}\n",
        "$$\n",
        "\n",
        "La matriz de representacion de estos documentos es\n",
        "\n",
        "| Elemento del vocabulario | $doc_0$ | $doc_1$ |$doc_2$ |\n",
        "| --- | --- | --- | --- | \n",
        "| a | 1 | 0 | 1 | \n",
        "| b | 2 | 1 | 0 | \n",
        "| c | 1 | 1 | 0 | \n",
        "| d | 0 | 1 | 1 |\n",
        "\n",
        "La clase *CountVectorizer* nos ayuda a encontrar la matriz de representacion convertida en vectores dispersos dados los documentos\n"
      ]
    },
    {
      "cell_type": "code",
      "metadata": {
        "colab": {
          "base_uri": "https://localhost:8080/"
        },
        "id": "Hk9lV_ObLRiF",
        "outputId": "777fc73a-8002-413a-abb5-ee30af8a75a8"
      },
      "source": [
        "documentos = spark.createDataFrame([(0, 'a,b,b,c'.split(',')),\n",
        "                                    (1, 'b,c,d'.split(',')),\n",
        "                                    (2, 'a,c'.split(','))],\n",
        "                                   ['id', 'palabras'])\n",
        "\n",
        "documentos.show()"
      ],
      "execution_count": 116,
      "outputs": [
        {
          "output_type": "stream",
          "text": [
            "+---+------------+\n",
            "| id|    palabras|\n",
            "+---+------------+\n",
            "|  0|[a, b, b, c]|\n",
            "|  1|   [b, c, d]|\n",
            "|  2|      [a, c]|\n",
            "+---+------------+\n",
            "\n"
          ],
          "name": "stdout"
        }
      ]
    },
    {
      "cell_type": "code",
      "metadata": {
        "colab": {
          "base_uri": "https://localhost:8080/"
        },
        "id": "l6gksLPgMl-7",
        "outputId": "83777387-cc63-421f-b243-79b927fcba6d"
      },
      "source": [
        "cv = CountVectorizer(inputCol  = 'palabras', \n",
        "                     outputCol = 'features', \n",
        "                     vocabSize = 6, \n",
        "                     minDF     = 1)\n",
        "\n",
        "modelo = cv.fit(documentos)\n",
        "mat_rep = modelo.transform(documentos)\n",
        "\n",
        "mat_rep.show(truncate = False)"
      ],
      "execution_count": 120,
      "outputs": [
        {
          "output_type": "stream",
          "text": [
            "+---+------------+-------------------------+\n",
            "|id |palabras    |features                 |\n",
            "+---+------------+-------------------------+\n",
            "|0  |[a, b, b, c]|(4,[0,1,2],[1.0,2.0,1.0])|\n",
            "|1  |[b, c, d]   |(4,[0,1,3],[1.0,1.0,1.0])|\n",
            "|2  |[a, c]      |(4,[0,2],[1.0,1.0])      |\n",
            "+---+------------+-------------------------+\n",
            "\n"
          ],
          "name": "stdout"
        }
      ]
    },
    {
      "cell_type": "markdown",
      "metadata": {
        "id": "bldXTbPruwn3"
      },
      "source": [
        "## 4.2 Datos\n",
        "\n",
        "Los datos que usaremos son de la serie Rick y Morty. Corresponde a transcripciones de los dialogos de los personajes. La base de datos cuenta con los siguientes campos:\n",
        "\n",
        "*   Indice (Identificadore unico del renglon en la base de datos)\n",
        "*   Temporada\n",
        "*   Numero de episodio\n",
        "*   Nombre del episodio\n",
        "*   Linea de dialogo\n",
        "\n",
        "Carguemos los datos en un DataFrame de *PySpark*\n",
        "\n",
        "\n",
        "\n",
        "\n"
      ]
    },
    {
      "cell_type": "code",
      "metadata": {
        "id": "GoHdGpZcr3nX"
      },
      "source": [
        "df_rym = spark.read.csv('/content/RickAndMortyScripts.csv', header = True, inferSchema = True)"
      ],
      "execution_count": null,
      "outputs": []
    },
    {
      "cell_type": "markdown",
      "metadata": {
        "id": "Tn09O58_xOEh"
      },
      "source": [
        "Verifiquemos que los datos se cargaron correctamente\n",
        "\n",
        "\n"
      ]
    },
    {
      "cell_type": "code",
      "metadata": {
        "colab": {
          "base_uri": "https://localhost:8080/"
        },
        "id": "_hBQ3W07r1DW",
        "outputId": "92c53486-3d90-413e-8db8-0d95ac477966"
      },
      "source": [
        "df_rym.printSchema()"
      ],
      "execution_count": null,
      "outputs": [
        {
          "output_type": "stream",
          "text": [
            "root\n",
            " |-- index: integer (nullable = true)\n",
            " |-- season no.: integer (nullable = true)\n",
            " |-- episode no.: integer (nullable = true)\n",
            " |-- episode name: string (nullable = true)\n",
            " |-- name: string (nullable = true)\n",
            " |-- line: string (nullable = true)\n",
            "\n"
          ],
          "name": "stdout"
        }
      ]
    },
    {
      "cell_type": "markdown",
      "metadata": {
        "id": "u1ZKCp6pyu3N"
      },
      "source": [
        "Imprimamos una muestra de los datos"
      ]
    },
    {
      "cell_type": "code",
      "metadata": {
        "colab": {
          "base_uri": "https://localhost:8080/"
        },
        "id": "y3S7OvjBsEI4",
        "outputId": "71efbcab-f1ee-4d53-f663-59d901f92abe"
      },
      "source": [
        "df_rym.show(5)"
      ],
      "execution_count": null,
      "outputs": [
        {
          "output_type": "stream",
          "text": [
            "+-----+----------+-----------+------------+-----+--------------------+\n",
            "|index|season no.|episode no.|episode name| name|                line|\n",
            "+-----+----------+-----------+------------+-----+--------------------+\n",
            "|    0|         1|          1|       Pilot| Rick|Morty! You gotta ...|\n",
            "|    1|         1|          1|       Pilot|Morty|What, Rick? What’...|\n",
            "|    2|         1|          1|       Pilot| Rick|I got a surprise ...|\n",
            "|    3|         1|          1|       Pilot|Morty|It's the middle o...|\n",
            "|    4|         1|          1|       Pilot| Rick|Come on, I got a ...|\n",
            "+-----+----------+-----------+------------+-----+--------------------+\n",
            "only showing top 5 rows\n",
            "\n"
          ],
          "name": "stdout"
        }
      ]
    },
    {
      "cell_type": "code",
      "metadata": {
        "colab": {
          "base_uri": "https://localhost:8080/"
        },
        "id": "kcyml1wLsHZv",
        "outputId": "906d30fb-4a13-4e54-84f8-70cb10bc644d"
      },
      "source": [
        "df_rym.printSchema()"
      ],
      "execution_count": null,
      "outputs": [
        {
          "output_type": "stream",
          "text": [
            "root\n",
            " |-- index: integer (nullable = true)\n",
            " |-- season no.: integer (nullable = true)\n",
            " |-- episode no.: integer (nullable = true)\n",
            " |-- episode name: string (nullable = true)\n",
            " |-- name: string (nullable = true)\n",
            " |-- line: string (nullable = true)\n",
            "\n"
          ],
          "name": "stdout"
        }
      ]
    },
    {
      "cell_type": "markdown",
      "metadata": {
        "id": "1i7c7oAr36vU"
      },
      "source": [
        "Para fines del analisis que llevaremos a cabo en este notebook solo haremos uso del as columnas del nombre y el dialogo del personaje"
      ]
    },
    {
      "cell_type": "code",
      "metadata": {
        "colab": {
          "base_uri": "https://localhost:8080/"
        },
        "id": "McjnvcJs4csv",
        "outputId": "16d37b52-580d-4982-8726-584c2599c236"
      },
      "source": [
        "df_rym = df_rym.select('index', 'name', 'line')\n",
        "df_rym.show(5)"
      ],
      "execution_count": null,
      "outputs": [
        {
          "output_type": "stream",
          "text": [
            "+-----+-----+--------------------+\n",
            "|index| name|                line|\n",
            "+-----+-----+--------------------+\n",
            "|    0| Rick|Morty! You gotta ...|\n",
            "|    1|Morty|What, Rick? What’...|\n",
            "|    2| Rick|I got a surprise ...|\n",
            "|    3|Morty|It's the middle o...|\n",
            "|    4| Rick|Come on, I got a ...|\n",
            "+-----+-----+--------------------+\n",
            "only showing top 5 rows\n",
            "\n"
          ],
          "name": "stdout"
        }
      ]
    },
    {
      "cell_type": "markdown",
      "metadata": {
        "id": "CgZArOLo7dnk"
      },
      "source": [
        "Para hacer aun mas simple el analisis quedemonos solo con los dialogos de los personajes principales"
      ]
    },
    {
      "cell_type": "code",
      "metadata": {
        "id": "4ZmxvAuL8FoI"
      },
      "source": [
        "personajes_principales = ['Rick', 'Morty', 'Beth', 'Jerry', 'Summer']\n",
        "df_rym = df_rym.where(df_rym.name.isin(personajes_principales))"
      ],
      "execution_count": null,
      "outputs": []
    },
    {
      "cell_type": "markdown",
      "metadata": {
        "id": "DVg1SOpq5IJh"
      },
      "source": [
        "Revisemos la distribucion de dialogos de los personajes que tienen mas dialogos"
      ]
    },
    {
      "cell_type": "code",
      "metadata": {
        "colab": {
          "base_uri": "https://localhost:8080/",
          "height": 296
        },
        "id": "KUjO8xVM4qwK",
        "outputId": "27192e5d-a6f0-410c-8df5-cc1ef511a5f2"
      },
      "source": [
        "df_dist_dialog = df_rym.groupBy('name') \\\n",
        "                       .count() \\\n",
        "                       .toPandas()\n",
        "\n",
        "sns.barplot( x    = 'name', \n",
        "             y    = 'count', \n",
        "             data = df_dist_dialog)"
      ],
      "execution_count": null,
      "outputs": [
        {
          "output_type": "execute_result",
          "data": {
            "text/plain": [
              "<matplotlib.axes._subplots.AxesSubplot at 0x7fdd410d7410>"
            ]
          },
          "metadata": {
            "tags": []
          },
          "execution_count": 14
        },
        {
          "output_type": "display_data",
          "data": {
            "image/png": "[encoded data removed]",
            "text/plain": [
              "<Figure size 432x288 with 1 Axes>"
            ]
          },
          "metadata": {
            "tags": [],
            "needs_background": "light"
          }
        }
      ]
    },
    {
      "cell_type": "markdown",
      "metadata": {
        "id": "z15xESOx-_ED"
      },
      "source": [
        "## 4.3 Preprocesamiento de los datos\n",
        "\n",
        "Ahora preprocesemos los datos para poder aplicar los modelos que queremos.\n",
        "\n",
        "### 4.3.1 Limpieza del texto\n",
        "\n",
        "Aqui realizaremos el proceso que ya hemos hecho anteriormente, el cual consiste en:\n",
        "\n",
        "* Transformar todo el texto a minusculas\n",
        "* Eliminar signos de puntuacion\n",
        "* Eliminar las palabras vacias, que son palabras que aportan poco contexto al problema\n",
        "\n",
        "Veamos como se encuentra el texto originalmente"
      ]
    },
    {
      "cell_type": "code",
      "metadata": {
        "colab": {
          "base_uri": "https://localhost:8080/"
        },
        "id": "YRexm8Pa62g4",
        "outputId": "f4cc48fb-d26b-4423-e06d-254cca969a86"
      },
      "source": [
        "df_rym.limit(3) \\\n",
        "      .toPandas() \\\n",
        "      .loc[0:3, 'line']"
      ],
      "execution_count": null,
      "outputs": [
        {
          "output_type": "execute_result",
          "data": {
            "text/plain": [
              "0    Morty! You gotta come on. Jus'... you gotta co...\n",
              "1                         What, Rick? What’s going on?\n",
              "2                     I got a surprise for you, Morty.\n",
              "Name: line, dtype: object"
            ]
          },
          "metadata": {
            "tags": []
          },
          "execution_count": 15
        }
      ]
    },
    {
      "cell_type": "markdown",
      "metadata": {
        "id": "5sEIlpFRHxBf"
      },
      "source": [
        "#### 4.3.1.1 Pasar todo a minusculas\n",
        "\n"
      ]
    },
    {
      "cell_type": "code",
      "metadata": {
        "colab": {
          "base_uri": "https://localhost:8080/"
        },
        "id": "7fRMP8-OHdlZ",
        "outputId": "5369df03-247d-4636-ff89-f6a525023851"
      },
      "source": [
        "# Hacemos minusculas\n",
        "df_rym = df_rym.rdd \\\n",
        "               .map(lambda x: (x[0], x[1], x[2].lower())) \\\n",
        "               .toDF(['id', 'nombre', 'dialog']) \n",
        "\n",
        "# Vemos como va el proceso\n",
        "df_rym.limit(3) \\\n",
        "      .toPandas() \\\n",
        "      .loc[0:3,'dialog']"
      ],
      "execution_count": null,
      "outputs": [
        {
          "output_type": "execute_result",
          "data": {
            "text/plain": [
              "0    morty! you gotta come on. jus'... you gotta co...\n",
              "1                         what, rick? what’s going on?\n",
              "2                     i got a surprise for you, morty.\n",
              "Name: dialog, dtype: object"
            ]
          },
          "metadata": {
            "tags": []
          },
          "execution_count": 16
        }
      ]
    },
    {
      "cell_type": "markdown",
      "metadata": {
        "id": "A-VVx9CwKh1v"
      },
      "source": [
        "#### 4.3.1.2 Eliminar signos de puntuacion"
      ]
    },
    {
      "cell_type": "code",
      "metadata": {
        "colab": {
          "base_uri": "https://localhost:8080/"
        },
        "id": "6UrkqqT_KbTB",
        "outputId": "3910adee-491e-4bf0-9a36-89b2335f4bb8"
      },
      "source": [
        "# Elimina signos de puntacion\n",
        "df_rym = df_rym.rdd \\\n",
        "           .map(lambda x: (x[0], x[1], x[2].translate(str.maketrans('', '', string.punctuation)))) \\\n",
        "           .toDF(['id', 'nombre', 'dialog']) \n",
        "\n",
        "# Vemos como va el proceso\n",
        "df_rym.limit(3) \\\n",
        "      .toPandas() \\\n",
        "      .loc[0:3,'dialog']"
      ],
      "execution_count": null,
      "outputs": [
        {
          "output_type": "execute_result",
          "data": {
            "text/plain": [
              "0    morty you gotta come on jus you gotta come wit...\n",
              "1                            what rick what’s going on\n",
              "2                       i got a surprise for you morty\n",
              "Name: dialog, dtype: object"
            ]
          },
          "metadata": {
            "tags": []
          },
          "execution_count": 17
        }
      ]
    },
    {
      "cell_type": "markdown",
      "metadata": {
        "id": "Wx-kCgBaWEm8"
      },
      "source": [
        "#### 4.3.1.3 Quitar palabras vacias\n",
        "\n"
      ]
    },
    {
      "cell_type": "code",
      "metadata": {
        "id": "vCXpUOZhXpS9",
        "colab": {
          "base_uri": "https://localhost:8080/"
        },
        "outputId": "29a00bd8-6a5a-4684-e5be-8683eccad856"
      },
      "source": [
        "# Definimos funcion para quitar palabras vacias\n",
        "palabras_vacias = nltk.corpus.stopwords.words('english')\n",
        "\n",
        "def quita_palabras_vacias(texto):\n",
        "  texto_limpio = [ palabra for palabra in texto if palabra not in palabras_vacias ]\n",
        "  return texto_limpio\n",
        "\n",
        "# Quitamos palabras vacias\n",
        "df_rym = df_rym.rdd \\\n",
        "           .map(lambda x: (x[0], x[1], x[2].split(' '))) \\\n",
        "           .map(lambda x: (x[0], x[1], quita_palabras_vacias(x[2]))) \\\n",
        "           .toDF(['id', 'nombre', 'dialog']) \\\n",
        "           .filter(size('dialog') > 0) # Elimina texto vacio\n",
        "\n",
        "# Vemos como va el proceso\n",
        "df_rym.limit(7) \\\n",
        "      .toPandas() \\\n",
        "      .loc[0:7,'dialog']"
      ],
      "execution_count": null,
      "outputs": [
        {
          "output_type": "execute_result",
          "data": {
            "text/plain": [
              "0               [morty, gotta, come, jus, gotta, come]\n",
              "1                                [rick, what’s, going]\n",
              "2                               [got, surprise, morty]\n",
              "3                             [middle, night, talking]\n",
              "4                 [come, got, surprise, , come, hurry]\n",
              "5                       [ow, ow, youre, tugging, hard]\n",
              "6    [gotta, go, gotta, get, outta, come, got, surp...\n",
              "Name: dialog, dtype: object"
            ]
          },
          "metadata": {
            "tags": []
          },
          "execution_count": 18
        }
      ]
    },
    {
      "cell_type": "markdown",
      "metadata": {
        "id": "9jZNlc1ub3Z7"
      },
      "source": [
        "### 4.3.2 Matriz de representacion\n",
        "\n",
        "Ahora necesitamos representar los datos como una matriz de representacion, la cual nos dice que elementos del vocabulario aparecen en cada elemento del conjunto de datos.\n",
        "\n",
        "| Elemento del vocabulario | $S_1$ | $S_2$ |$S_3$ | $S_4$ |\n",
        "| --- | --- | --- | --- | --- |\n",
        "| palabra 1 | 1 | 1 | 1 | 0 |\n",
        "| palabra 2 | 0 | 1 | 1 | 0 |\n",
        "| palabra 3 | 0 | 1 | 0 | 1 |\n",
        "| palabra 4 | 1 | 1 | 0 | 0 |\n",
        "| palabra 5 | 1 | 1 | 0 | 0 |\n",
        "| palabra 6 | 0 | 0 | 1 | 1 |\n",
        "\n",
        "Esto lo logramos usando la clase `CountVectorizerModel`\n",
        "\n"
      ]
    },
    {
      "cell_type": "code",
      "metadata": {
        "id": "qb7cxQndamdZ"
      },
      "source": [
        "cv = CountVectorizer(inputCol  = 'dialog', \n",
        "                     outputCol = 'features',\n",
        "                     binary    = True, # Solo llena con 0 o 1\n",
        "                     vocabSize = 3000,  # Tamano maximo del vocabulario \n",
        "                     minDF     = 1)    # En cuantos docs diferentes debe\n",
        "                                       # aparecer una palabra para ser \n",
        "                                       # considerada para el vocabulario"
      ],
      "execution_count": null,
      "outputs": []
    },
    {
      "cell_type": "markdown",
      "metadata": {
        "id": "WeePPuLEl3Ki"
      },
      "source": [
        "La forma de calcula la matriz de representacion es la siguiente"
      ]
    },
    {
      "cell_type": "code",
      "metadata": {
        "colab": {
          "base_uri": "https://localhost:8080/"
        },
        "id": "-6BfnYO4ejpi",
        "outputId": "b81672ea-feb9-43ca-8660-de54575a0e3b"
      },
      "source": [
        "# Calculamos el vocabulario dados los datos\n",
        "matriz_representacion = cv.fit(df_rym)\n",
        "# Traducimos los datos la matriz de representacion\n",
        "df_rym_mr = matriz_representacion.transform(df_rym)\n",
        "# Mustramos\n",
        "df_rym_mr.show(10)"
      ],
      "execution_count": null,
      "outputs": [
        {
          "output_type": "stream",
          "text": [
            "+---+------+--------------------+--------------------+\n",
            "| id|nombre|              dialog|            features|\n",
            "+---+------+--------------------+--------------------+\n",
            "|  0|  Rick|[morty, gotta, co...|(2442,[0,24,101,1...|\n",
            "|  1| Morty|[rick, what’s, go...|(2442,[3,40,353],...|\n",
            "|  2|  Rick|[got, surprise, m...|(2442,[0,17,325],...|\n",
            "|  3| Morty|[middle, night, t...|(2442,[65,113,116...|\n",
            "|  4|  Rick|[come, got, surpr...|(2442,[1,17,24,32...|\n",
            "|  5| Morty|[ow, ow, youre, t...|(2442,[7,171,570,...|\n",
            "|  6|  Rick|[gotta, go, gotta...|(2442,[0,5,12,17,...|\n",
            "|  7|  Rick|[think, flying, v...|(2442,[0,20,110,3...|\n",
            "|  8| Morty|[yeah, rick, iits...|(2442,[3,14,129,3...|\n",
            "|  9|  Rick|[morty, had—, to—...|(2442,[0,44,198,6...|\n",
            "+---+------+--------------------+--------------------+\n",
            "only showing top 10 rows\n",
            "\n"
          ],
          "name": "stdout"
        }
      ]
    },
    {
      "cell_type": "markdown",
      "metadata": {
        "id": "AAYBW6xvmOdr"
      },
      "source": [
        "## 4.4 *Minhash* y distancia de Jaccard\n",
        "\n",
        "Para crear un modelo basado en *Minhashing* hacemos lo siguiente\n"
      ]
    },
    {
      "cell_type": "code",
      "metadata": {
        "id": "cN0Bz_t0hSyq"
      },
      "source": [
        "minhash = MinHashLSH(inputCol      = 'features', \n",
        "                     outputCol     = 'hashes', \n",
        "                     numHashTables = 100)\n",
        "\n",
        "modelo_mh = minhash.fit(df_rym_mr)"
      ],
      "execution_count": null,
      "outputs": []
    },
    {
      "cell_type": "markdown",
      "metadata": {
        "id": "fEX94jp2p--H"
      },
      "source": [
        "Podemos mostrar como se ve la *signature matrix* creada a partir de la matriz de representacion"
      ]
    },
    {
      "cell_type": "code",
      "metadata": {
        "colab": {
          "base_uri": "https://localhost:8080/"
        },
        "id": "DBFh0G6zp9RD",
        "outputId": "68308158-ef98-45ec-fff0-bfb3f0b293c2"
      },
      "source": [
        "df_rym_mh = modelo_mh.transform(df_rym_mr) \n",
        "\n",
        "\n",
        "df_rym_mh.limit(10) \\\n",
        "         .show()"
      ],
      "execution_count": null,
      "outputs": [
        {
          "output_type": "stream",
          "text": [
            "+---+------+--------------------+--------------------+--------------------+\n",
            "| id|nombre|              dialog|            features|              hashes|\n",
            "+---+------+--------------------+--------------------+--------------------+\n",
            "|  0|  Rick|[morty, gotta, co...|(2442,[0,24,101,1...|[[4.21829189E8], ...|\n",
            "|  1| Morty|[rick, what’s, go...|(2442,[3,40,353],...|[[2.01889613E8], ...|\n",
            "|  2|  Rick|[got, surprise, m...|(2442,[0,17,325],...|[[4.21829189E8], ...|\n",
            "|  3| Morty|[middle, night, t...|(2442,[65,113,116...|[[2.89737465E8], ...|\n",
            "|  4|  Rick|[come, got, surpr...|(2442,[1,17,24,32...|[[3.48515997E8], ...|\n",
            "|  5| Morty|[ow, ow, youre, t...|(2442,[7,171,570,...|[[1.13721815E8], ...|\n",
            "|  6|  Rick|[gotta, go, gotta...|(2442,[0,5,12,17,...|[[5.5263229E7], [...|\n",
            "|  7|  Rick|[think, flying, v...|(2442,[0,20,110,3...|[[6.931797E7], [9...|\n",
            "|  8| Morty|[yeah, rick, iits...|(2442,[3,14,129,3...|[[2.01889613E8], ...|\n",
            "|  9|  Rick|[morty, had—, to—...|(2442,[0,44,198,6...|[[1.72340374E8], ...|\n",
            "+---+------+--------------------+--------------------+--------------------+\n",
            "\n"
          ],
          "name": "stdout"
        }
      ]
    },
    {
      "cell_type": "markdown",
      "metadata": {
        "id": "51fVzzOZ9D9i"
      },
      "source": [
        "### 4.4.1 Similaridad entre lineas\n",
        "\n",
        "Podemos calcular las distancias entre los elementos de dos dataframes"
      ]
    },
    {
      "cell_type": "code",
      "metadata": {
        "colab": {
          "base_uri": "https://localhost:8080/"
        },
        "id": "saMr5CfJ0tRn",
        "outputId": "d2d133d5-06a5-4020-c708-340c64eaf91b"
      },
      "source": [
        "similaridad_entre_lineas = model.approxSimilarityJoin(datasetA  = df_rym_mh,  \n",
        "                                                      datasetB  = df_rym_mh, \n",
        "                                                      threshold = 0.5, \n",
        "                                                      distCol   = 'dist_jaccard') \\\n",
        "                                .select(col('datasetA.nombre').alias('nombre_1'), \n",
        "                                        col('datasetB.nombre').alias('nombre_2'), \n",
        "                                        col('dist_jaccard')) \\\n",
        "                                .where(col('dist_jaccard') > 0) # Quitamos las que son iguales\n",
        "\n",
        "similaridad_entre_lineas.show(4)      "
      ],
      "execution_count": null,
      "outputs": [
        {
          "output_type": "stream",
          "text": [
            "+--------+--------+-------------------+\n",
            "|nombre_1|nombre_2|       dist_jaccard|\n",
            "+--------+--------+-------------------+\n",
            "|   Morty|   Morty|0.33333333333333337|\n",
            "|    Rick|    Rick|                0.4|\n",
            "|   Jerry|   Morty|0.33333333333333337|\n",
            "|   Morty|    Beth|0.33333333333333337|\n",
            "+--------+--------+-------------------+\n",
            "only showing top 4 rows\n",
            "\n"
          ],
          "name": "stdout"
        }
      ]
    },
    {
      "cell_type": "markdown",
      "metadata": {
        "id": "BAIQjZJt7Ism"
      },
      "source": [
        "Veamos cuantas si pudimos identificar los dialogos por personaje"
      ]
    },
    {
      "cell_type": "code",
      "metadata": {
        "colab": {
          "base_uri": "https://localhost:8080/",
          "height": 296
        },
        "id": "xtMZPdqd7jQ-",
        "outputId": "7ac78df7-8f9f-4f08-fceb-6f4989fa36dd"
      },
      "source": [
        "coincidencias = similaridad_entre_lineas.withColumn('coinciden', \n",
        "                                                    col('nombre_1') == col('nombre_2')) \\\n",
        "                                        .groupBy('coinciden') \\\n",
        "                                        .count() \\\n",
        "                                        .toPandas()\n",
        "\n",
        "sns.barplot( x    = 'coinciden', \n",
        "             y    = 'count', \n",
        "             data = coincidencias)"
      ],
      "execution_count": null,
      "outputs": [
        {
          "output_type": "execute_result",
          "data": {
            "text/plain": [
              "<matplotlib.axes._subplots.AxesSubplot at 0x7fdd40646f50>"
            ]
          },
          "metadata": {
            "tags": []
          },
          "execution_count": 82
        },
        {
          "output_type": "display_data",
          "data": {
            "image/png": "[encoded data removed]",
            "text/plain": [
              "<Figure size 432x288 with 1 Axes>"
            ]
          },
          "metadata": {
            "tags": [],
            "needs_background": "light"
          }
        }
      ]
    },
    {
      "cell_type": "markdown",
      "metadata": {
        "id": "6JJ4T4jB92bF"
      },
      "source": [
        "### 4.4.2 Vecinos mas cercanos\n",
        "\n",
        "Calculamos los elementos mas cercanos a un elemento dado. \n",
        "\n",
        "Extraemos una linea correspondinete a Morty"
      ]
    },
    {
      "cell_type": "code",
      "metadata": {
        "colab": {
          "base_uri": "https://localhost:8080/"
        },
        "id": "io11ocUI7jId",
        "outputId": "8f4834f6-91f2-4696-a067-6fa213c06db6"
      },
      "source": [
        "[renglon] = df_rym_mr.where(df_rym_mr.id == 170).collect()\n",
        "print(renglon)\n",
        "linea = renglon[3]\n",
        "print(linea)"
      ],
      "execution_count": null,
      "outputs": [
        {
          "output_type": "stream",
          "text": [
            "Row(id=170, nombre='Morty', dialog=['oh', 'geez', 'rick', 'really', 'dont', 'want'], features=SparseVector(2442, {2: 1.0, 3: 1.0, 9: 1.0, 18: 1.0, 33: 1.0, 64: 1.0}))\n",
            "(2442,[2,3,9,18,33,64],[1.0,1.0,1.0,1.0,1.0,1.0])\n"
          ],
          "name": "stdout"
        }
      ]
    },
    {
      "cell_type": "markdown",
      "metadata": {
        "id": "-p1eREAM-TRz"
      },
      "source": [
        "Buscamos los $k$ elementos mas cercanos"
      ]
    },
    {
      "cell_type": "code",
      "metadata": {
        "id": "NT8VvVKc7i_b"
      },
      "source": [
        "vecinos_cercanos = modelo_mh.approxNearestNeighbors(dataset             = df_rym_mh, \n",
        "                                                    key                 = linea, \n",
        "                                                    numNearestNeighbors = 50, \n",
        "                                                    distCol             = 'dist_jaccard') \\\n",
        "                            .where(col('dist_jaccard') > 0) # Quitamos la linea repetida"
      ],
      "execution_count": null,
      "outputs": []
    },
    {
      "cell_type": "markdown",
      "metadata": {
        "id": "zBXx3Po5_2-y"
      },
      "source": [
        "Veamos cuantas lineas corresponden a cada personaje"
      ]
    },
    {
      "cell_type": "code",
      "metadata": {
        "id": "X_md6l0R_1tw"
      },
      "source": [
        "vecinos_cercanos_hist = vecinos_cercanos.groupby('nombre') \\\n",
        "                                        .count() \\\n",
        "                                        .toPandas()"
      ],
      "execution_count": null,
      "outputs": []
    },
    {
      "cell_type": "markdown",
      "metadata": {
        "id": "Tz6WiKB1_g3o"
      },
      "source": [
        "Visualicemos los resultados"
      ]
    },
    {
      "cell_type": "code",
      "metadata": {
        "colab": {
          "base_uri": "https://localhost:8080/",
          "height": 296
        },
        "id": "IseGwuhLq-oc",
        "outputId": "f5320a70-bea0-4927-8ec0-9d0f0e76fcd9"
      },
      "source": [
        "sns.barplot( x    = 'nombre', \n",
        "             y    = 'count', \n",
        "             data = vecinos_cercanos_hist)"
      ],
      "execution_count": null,
      "outputs": [
        {
          "output_type": "execute_result",
          "data": {
            "text/plain": [
              "<matplotlib.axes._subplots.AxesSubplot at 0x7fdd40195910>"
            ]
          },
          "metadata": {
            "tags": []
          },
          "execution_count": 104
        },
        {
          "output_type": "display_data",
          "data": {
            "image/png": "[encoded data removed]",
            "text/plain": [
              "<Figure size 432x288 with 1 Axes>"
            ]
          },
          "metadata": {
            "tags": [],
            "needs_background": "light"
          }
        }
      ]
    },
    {
      "cell_type": "markdown",
      "metadata": {
        "id": "ShnA0s6qCC4H"
      },
      "source": [
        "# Ejercicio\n",
        "\n",
        "Haga alguna variacion del problema aqui presentado y explique sus resultados. Algunas de las cosas que podria hacer son:\n",
        "\n",
        "* Cambiar el conjutno de personajes considerados.\n",
        "* Cambiar al en el la limpieza de datos, no quitar *stopwords*, etc.\n",
        "* Cambrias los hiperparametros de los objetos *CountVectorizer*, *MinHashLSH*, etc.\n",
        "* Usar otra linea para los vecinos mas cercanos, etc."
      ]
    }
  ]
}