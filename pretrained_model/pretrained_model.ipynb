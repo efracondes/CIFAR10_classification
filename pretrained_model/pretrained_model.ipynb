{
 "metadata": {
  "language_info": {
   "codemirror_mode": {
    "name": "ipython",
    "version": 3
   },
   "file_extension": ".py",
   "mimetype": "text/x-python",
   "name": "python",
   "nbconvert_exporter": "python",
   "pygments_lexer": "ipython3",
   "version": "3.8.3-final"
  },
  "orig_nbformat": 2,
  "kernelspec": {
   "name": "Python 3.8.3 64-bit ('pytorch_thesis': conda)",
   "display_name": "Python 3.8.3 64-bit ('pytorch_thesis': conda)",
   "metadata": {
    "interpreter": {
     "hash": "60192b00ca1e79745b5326dcd6e85ea7154bbe2529420bfd10ba283b462c73c0"
    }
   }
  }
 },
 "nbformat": 4,
 "nbformat_minor": 2,
 "cells": [
  {
   "source": [
    "# CIFAR10 Classifier\n",
    "## (Prototype Model Training)\n",
    "\n",
    "This notebook has the purpuse of showing how to train a CNN using PyTorch, saving a routine that can be extended for future applications and to provide a way to check if PyTorch is able to use de GPUs correctly. With this goal in mind, we try to solve the problem of image classification in the CIFAR10 dataset, which consists of 60,000 32x32 colour images classified within 10 classes. The clases represent objects such as airplanes, automobiles, birds, cats, etc.\n",
    "\n",
    "For us to be able to build any sort of deep learning model we need to call the following libraries."
   ],
   "cell_type": "markdown",
   "metadata": {}
  },
  {
   "cell_type": "code",
   "execution_count": 16,
   "metadata": {},
   "outputs": [],
   "source": [
    "# Display image\n",
    "from matplotlib.pyplot import imshow\n",
    "# General purposes\n",
    "import numpy as np\n",
    "import pandas as pd\n",
    "# PyTorch stuff\n",
    "import torch\n",
    "from torchvision import transforms\n",
    "from torchvision.datasets import CIFAR10\n",
    "import torch.nn as nn\n",
    "import torch.nn.functional as F \n",
    "from torch.utils.data import Dataset, DataLoader \n",
    "import torch.optim as optim\n",
    "from torchvision.models import resnet18\n",
    "from torchsummary import summary"
   ]
  },
  {
   "source": [
    "## 1. Dataset\n",
    "\n",
    "In the next cell, we define the set of transforms that will be applied to the images before passing to the network. "
   ],
   "cell_type": "markdown",
   "metadata": {}
  },
  {
   "cell_type": "code",
   "execution_count": 17,
   "metadata": {},
   "outputs": [],
   "source": [
    "custom_transforms = transforms.Compose([\n",
    "    transforms.ToTensor()])"
   ]
  },
  {
   "source": [
    "Now, we download the Fashion-MNIST data set"
   ],
   "cell_type": "markdown",
   "metadata": {}
  },
  {
   "cell_type": "code",
   "execution_count": 18,
   "metadata": {
    "tags": []
   },
   "outputs": [
    {
     "output_type": "stream",
     "name": "stdout",
     "text": "Files already downloaded and verified\nFiles already downloaded and verified\n"
    }
   ],
   "source": [
    "train_data = CIFAR10(root='./data', train=True, download=True, transform=custom_transforms)\n",
    "valid_data = CIFAR10(root='./data', train=False, download=True, transform=custom_transforms)"
   ]
  },
  {
   "source": [
    "We can create a list with the classes"
   ],
   "cell_type": "markdown",
   "metadata": {}
  },
  {
   "cell_type": "code",
   "execution_count": 19,
   "metadata": {},
   "outputs": [],
   "source": [
    "classes = ('plane', 'car', 'bird', 'cat', 'deer', 'dog', 'frog', 'horse', 'ship', 'truck')"
   ]
  },
  {
   "source": [
    "Let's see how do the images look like "
   ],
   "cell_type": "markdown",
   "metadata": {}
  },
  {
   "cell_type": "code",
   "execution_count": 20,
   "metadata": {
    "tags": []
   },
   "outputs": [
    {
     "output_type": "stream",
     "name": "stdout",
     "text": "frog\n"
    },
    {
     "output_type": "execute_result",
     "data": {
      "text/plain": "&lt;matplotlib.image.AxesImage at 0x7ff45d167220&gt;"
     },
     "metadata": {},
     "execution_count": 20
    },
    {
     "output_type": "display_data",
     "data": {
      "text/plain": "&lt;Figure size 432x288 with 1 Axes&gt;",
      "image/svg+xml": "<?xml version=\"1.0\" encoding=\"utf-8\" standalone=\"no\"?>\n<!DOCTYPE svg PUBLIC \"-//W3C//DTD SVG 1.1//EN\"\n  \"http://www.w3.org/Graphics/SVG/1.1/DTD/svg11.dtd\">\n<!-- Created with matplotlib (https://matplotlib.org/) -->\n<svg height=\"248.919844pt\" version=\"1.1\" viewBox=\"0 0 251.565 248.919844\" width=\"251.565pt\" xmlns=\"http://www.w3.org/2000/svg\" xmlns:xlink=\"http://www.w3.org/1999/xlink\">\n <defs>\n  <style type=\"text/css\">\n*{stroke-linecap:butt;stroke-linejoin:round;}\n  </style>\n </defs>\n <g id=\"figure_1\">\n  <g id=\"patch_1\">\n   <path d=\"M 0 248.919844 \nL 251.565 248.919844 \nL 251.565 0 \nL 0 0 \nz\n\" style=\"fill:none;\"/>\n  </g>\n  <g id=\"axes_1\">\n   <g id=\"patch_2\">\n    <path d=\"M 26.925 225.041719 \nL 244.365 225.041719 \nL 244.365 7.601719 \nL 26.925 7.601719 \nz\n\" style=\"fill:#ffffff;\"/>\n   </g>\n   <g clip-path=\"url(#paf1b0c223e)\">\n    <image height=\"218\" id=\"image78308969c3\" transform=\"scale(1 -1)translate(0 -218)\" width=\"218\" x=\"26.925\" xlink:href=\"data:image/png;base64,\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\" y=\"-7.041719\"/>\n   </g>\n   <g id=\"matplotlib.axis_1\">\n    <g id=\"xtick_1\">\n     <g id=\"line2d_1\">\n      <defs>\n       <path d=\"M 0 0 \nL 0 3.5 \n\" id=\"md15fcf8a81\" style=\"stroke:#000000;stroke-width:0.8;\"/>\n      </defs>\n      <g>\n       <use style=\"stroke:#000000;stroke-width:0.8;\" x=\"30.3225\" xlink:href=\"#md15fcf8a81\" y=\"225.041719\"/>\n      </g>\n     </g>\n     <g id=\"text_1\">\n      <!-- 0 -->\n      <defs>\n       <path d=\"M 31.78125 66.40625 \nQ 24.171875 66.40625 20.328125 58.90625 \nQ 16.5 51.421875 16.5 36.375 \nQ 16.5 21.390625 20.328125 13.890625 \nQ 24.171875 6.390625 31.78125 6.390625 \nQ 39.453125 6.390625 43.28125 13.890625 \nQ 47.125 21.390625 47.125 36.375 \nQ 47.125 51.421875 43.28125 58.90625 \nQ 39.453125 66.40625 31.78125 66.40625 \nz\nM 31.78125 74.21875 \nQ 44.046875 74.21875 50.515625 64.515625 \nQ 56.984375 54.828125 56.984375 36.375 \nQ 56.984375 17.96875 50.515625 8.265625 \nQ 44.046875 -1.421875 31.78125 -1.421875 \nQ 19.53125 -1.421875 13.0625 8.265625 \nQ 6.59375 17.96875 6.59375 36.375 \nQ 6.59375 54.828125 13.0625 64.515625 \nQ 19.53125 74.21875 31.78125 74.21875 \nz\n\" id=\"DejaVuSans-48\"/>\n      </defs>\n      <g transform=\"translate(27.14125 239.640156)scale(0.1 -0.1)\">\n       <use xlink:href=\"#DejaVuSans-48\"/>\n      </g>\n     </g>\n    </g>\n    <g id=\"xtick_2\">\n     <g id=\"line2d_2\">\n      <g>\n       <use style=\"stroke:#000000;stroke-width:0.8;\" x=\"64.2975\" xlink:href=\"#md15fcf8a81\" y=\"225.041719\"/>\n      </g>\n     </g>\n     <g id=\"text_2\">\n      <!-- 5 -->\n      <defs>\n       <path d=\"M 10.796875 72.90625 \nL 49.515625 72.90625 \nL 49.515625 64.59375 \nL 19.828125 64.59375 \nL 19.828125 46.734375 \nQ 21.96875 47.46875 24.109375 47.828125 \nQ 26.265625 48.1875 28.421875 48.1875 \nQ 40.625 48.1875 47.75 41.5 \nQ 54.890625 34.8125 54.890625 23.390625 \nQ 54.890625 11.625 47.5625 5.09375 \nQ 40.234375 -1.421875 26.90625 -1.421875 \nQ 22.3125 -1.421875 17.546875 -0.640625 \nQ 12.796875 0.140625 7.71875 1.703125 \nL 7.71875 11.625 \nQ 12.109375 9.234375 16.796875 8.0625 \nQ 21.484375 6.890625 26.703125 6.890625 \nQ 35.15625 6.890625 40.078125 11.328125 \nQ 45.015625 15.765625 45.015625 23.390625 \nQ 45.015625 31 40.078125 35.4375 \nQ 35.15625 39.890625 26.703125 39.890625 \nQ 22.75 39.890625 18.8125 39.015625 \nQ 14.890625 38.140625 10.796875 36.28125 \nz\n\" id=\"DejaVuSans-53\"/>\n      </defs>\n      <g transform=\"translate(61.11625 239.640156)scale(0.1 -0.1)\">\n       <use xlink:href=\"#DejaVuSans-53\"/>\n      </g>\n     </g>\n    </g>\n    <g id=\"xtick_3\">\n     <g id=\"line2d_3\">\n      <g>\n       <use style=\"stroke:#000000;stroke-width:0.8;\" x=\"98.2725\" xlink:href=\"#md15fcf8a81\" y=\"225.041719\"/>\n      </g>\n     </g>\n     <g id=\"text_3\">\n      <!-- 10 -->\n      <defs>\n       <path d=\"M 12.40625 8.296875 \nL 28.515625 8.296875 \nL 28.515625 63.921875 \nL 10.984375 60.40625 \nL 10.984375 69.390625 \nL 28.421875 72.90625 \nL 38.28125 72.90625 \nL 38.28125 8.296875 \nL 54.390625 8.296875 \nL 54.390625 0 \nL 12.40625 0 \nz\n\" id=\"DejaVuSans-49\"/>\n      </defs>\n      <g transform=\"translate(91.91 239.640156)scale(0.1 -0.1)\">\n       <use xlink:href=\"#DejaVuSans-49\"/>\n       <use x=\"63.623047\" xlink:href=\"#DejaVuSans-48\"/>\n      </g>\n     </g>\n    </g>\n    <g id=\"xtick_4\">\n     <g id=\"line2d_4\">\n      <g>\n       <use style=\"stroke:#000000;stroke-width:0.8;\" x=\"132.2475\" xlink:href=\"#md15fcf8a81\" y=\"225.041719\"/>\n      </g>\n     </g>\n     <g id=\"text_4\">\n      <!-- 15 -->\n      <g transform=\"translate(125.885 239.640156)scale(0.1 -0.1)\">\n       <use xlink:href=\"#DejaVuSans-49\"/>\n       <use x=\"63.623047\" xlink:href=\"#DejaVuSans-53\"/>\n      </g>\n     </g>\n    </g>\n    <g id=\"xtick_5\">\n     <g id=\"line2d_5\">\n      <g>\n       <use style=\"stroke:#000000;stroke-width:0.8;\" x=\"166.2225\" xlink:href=\"#md15fcf8a81\" y=\"225.041719\"/>\n      </g>\n     </g>\n     <g id=\"text_5\">\n      <!-- 20 -->\n      <defs>\n       <path d=\"M 19.1875 8.296875 \nL 53.609375 8.296875 \nL 53.609375 0 \nL 7.328125 0 \nL 7.328125 8.296875 \nQ 12.9375 14.109375 22.625 23.890625 \nQ 32.328125 33.6875 34.8125 36.53125 \nQ 39.546875 41.84375 41.421875 45.53125 \nQ 43.3125 49.21875 43.3125 52.78125 \nQ 43.3125 58.59375 39.234375 62.25 \nQ 35.15625 65.921875 28.609375 65.921875 \nQ 23.96875 65.921875 18.8125 64.3125 \nQ 13.671875 62.703125 7.8125 59.421875 \nL 7.8125 69.390625 \nQ 13.765625 71.78125 18.9375 73 \nQ 24.125 74.21875 28.421875 74.21875 \nQ 39.75 74.21875 46.484375 68.546875 \nQ 53.21875 62.890625 53.21875 53.421875 \nQ 53.21875 48.921875 51.53125 44.890625 \nQ 49.859375 40.875 45.40625 35.40625 \nQ 44.1875 33.984375 37.640625 27.21875 \nQ 31.109375 20.453125 19.1875 8.296875 \nz\n\" id=\"DejaVuSans-50\"/>\n      </defs>\n      <g transform=\"translate(159.86 239.640156)scale(0.1 -0.1)\">\n       <use xlink:href=\"#DejaVuSans-50\"/>\n       <use x=\"63.623047\" xlink:href=\"#DejaVuSans-48\"/>\n      </g>\n     </g>\n    </g>\n    <g id=\"xtick_6\">\n     <g id=\"line2d_6\">\n      <g>\n       <use style=\"stroke:#000000;stroke-width:0.8;\" x=\"200.1975\" xlink:href=\"#md15fcf8a81\" y=\"225.041719\"/>\n      </g>\n     </g>\n     <g id=\"text_6\">\n      <!-- 25 -->\n      <g transform=\"translate(193.835 239.640156)scale(0.1 -0.1)\">\n       <use xlink:href=\"#DejaVuSans-50\"/>\n       <use x=\"63.623047\" xlink:href=\"#DejaVuSans-53\"/>\n      </g>\n     </g>\n    </g>\n    <g id=\"xtick_7\">\n     <g id=\"line2d_7\">\n      <g>\n       <use style=\"stroke:#000000;stroke-width:0.8;\" x=\"234.1725\" xlink:href=\"#md15fcf8a81\" y=\"225.041719\"/>\n      </g>\n     </g>\n     <g id=\"text_7\">\n      <!-- 30 -->\n      <defs>\n       <path d=\"M 40.578125 39.3125 \nQ 47.65625 37.796875 51.625 33 \nQ 55.609375 28.21875 55.609375 21.1875 \nQ 55.609375 10.40625 48.1875 4.484375 \nQ 40.765625 -1.421875 27.09375 -1.421875 \nQ 22.515625 -1.421875 17.65625 -0.515625 \nQ 12.796875 0.390625 7.625 2.203125 \nL 7.625 11.71875 \nQ 11.71875 9.328125 16.59375 8.109375 \nQ 21.484375 6.890625 26.8125 6.890625 \nQ 36.078125 6.890625 40.9375 10.546875 \nQ 45.796875 14.203125 45.796875 21.1875 \nQ 45.796875 27.640625 41.28125 31.265625 \nQ 36.765625 34.90625 28.71875 34.90625 \nL 20.21875 34.90625 \nL 20.21875 43.015625 \nL 29.109375 43.015625 \nQ 36.375 43.015625 40.234375 45.921875 \nQ 44.09375 48.828125 44.09375 54.296875 \nQ 44.09375 59.90625 40.109375 62.90625 \nQ 36.140625 65.921875 28.71875 65.921875 \nQ 24.65625 65.921875 20.015625 65.03125 \nQ 15.375 64.15625 9.8125 62.3125 \nL 9.8125 71.09375 \nQ 15.4375 72.65625 20.34375 73.4375 \nQ 25.25 74.21875 29.59375 74.21875 \nQ 40.828125 74.21875 47.359375 69.109375 \nQ 53.90625 64.015625 53.90625 55.328125 \nQ 53.90625 49.265625 50.4375 45.09375 \nQ 46.96875 40.921875 40.578125 39.3125 \nz\n\" id=\"DejaVuSans-51\"/>\n      </defs>\n      <g transform=\"translate(227.81 239.640156)scale(0.1 -0.1)\">\n       <use xlink:href=\"#DejaVuSans-51\"/>\n       <use x=\"63.623047\" xlink:href=\"#DejaVuSans-48\"/>\n      </g>\n     </g>\n    </g>\n   </g>\n   <g id=\"matplotlib.axis_2\">\n    <g id=\"ytick_1\">\n     <g id=\"line2d_8\">\n      <defs>\n       <path d=\"M 0 0 \nL -3.5 0 \n\" id=\"mdb2f1e8a4d\" style=\"stroke:#000000;stroke-width:0.8;\"/>\n      </defs>\n      <g>\n       <use style=\"stroke:#000000;stroke-width:0.8;\" x=\"26.925\" xlink:href=\"#mdb2f1e8a4d\" y=\"10.999219\"/>\n      </g>\n     </g>\n     <g id=\"text_8\">\n      <!-- 0 -->\n      <g transform=\"translate(13.5625 14.798437)scale(0.1 -0.1)\">\n       <use xlink:href=\"#DejaVuSans-48\"/>\n      </g>\n     </g>\n    </g>\n    <g id=\"ytick_2\">\n     <g id=\"line2d_9\">\n      <g>\n       <use style=\"stroke:#000000;stroke-width:0.8;\" x=\"26.925\" xlink:href=\"#mdb2f1e8a4d\" y=\"44.974219\"/>\n      </g>\n     </g>\n     <g id=\"text_9\">\n      <!-- 5 -->\n      <g transform=\"translate(13.5625 48.773437)scale(0.1 -0.1)\">\n       <use xlink:href=\"#DejaVuSans-53\"/>\n      </g>\n     </g>\n    </g>\n    <g id=\"ytick_3\">\n     <g id=\"line2d_10\">\n      <g>\n       <use style=\"stroke:#000000;stroke-width:0.8;\" x=\"26.925\" xlink:href=\"#mdb2f1e8a4d\" y=\"78.949219\"/>\n      </g>\n     </g>\n     <g id=\"text_10\">\n      <!-- 10 -->\n      <g transform=\"translate(7.2 82.748437)scale(0.1 -0.1)\">\n       <use xlink:href=\"#DejaVuSans-49\"/>\n       <use x=\"63.623047\" xlink:href=\"#DejaVuSans-48\"/>\n      </g>\n     </g>\n    </g>\n    <g id=\"ytick_4\">\n     <g id=\"line2d_11\">\n      <g>\n       <use style=\"stroke:#000000;stroke-width:0.8;\" x=\"26.925\" xlink:href=\"#mdb2f1e8a4d\" y=\"112.924219\"/>\n      </g>\n     </g>\n     <g id=\"text_11\">\n      <!-- 15 -->\n      <g transform=\"translate(7.2 116.723437)scale(0.1 -0.1)\">\n       <use xlink:href=\"#DejaVuSans-49\"/>\n       <use x=\"63.623047\" xlink:href=\"#DejaVuSans-53\"/>\n      </g>\n     </g>\n    </g>\n    <g id=\"ytick_5\">\n     <g id=\"line2d_12\">\n      <g>\n       <use style=\"stroke:#000000;stroke-width:0.8;\" x=\"26.925\" xlink:href=\"#mdb2f1e8a4d\" y=\"146.899219\"/>\n      </g>\n     </g>\n     <g id=\"text_12\">\n      <!-- 20 -->\n      <g transform=\"translate(7.2 150.698437)scale(0.1 -0.1)\">\n       <use xlink:href=\"#DejaVuSans-50\"/>\n       <use x=\"63.623047\" xlink:href=\"#DejaVuSans-48\"/>\n      </g>\n     </g>\n    </g>\n    <g id=\"ytick_6\">\n     <g id=\"line2d_13\">\n      <g>\n       <use style=\"stroke:#000000;stroke-width:0.8;\" x=\"26.925\" xlink:href=\"#mdb2f1e8a4d\" y=\"180.874219\"/>\n      </g>\n     </g>\n     <g id=\"text_13\">\n      <!-- 25 -->\n      <g transform=\"translate(7.2 184.673437)scale(0.1 -0.1)\">\n       <use xlink:href=\"#DejaVuSans-50\"/>\n       <use x=\"63.623047\" xlink:href=\"#DejaVuSans-53\"/>\n      </g>\n     </g>\n    </g>\n    <g id=\"ytick_7\">\n     <g id=\"line2d_14\">\n      <g>\n       <use style=\"stroke:#000000;stroke-width:0.8;\" x=\"26.925\" xlink:href=\"#mdb2f1e8a4d\" y=\"214.849219\"/>\n      </g>\n     </g>\n     <g id=\"text_14\">\n      <!-- 30 -->\n      <g transform=\"translate(7.2 218.648437)scale(0.1 -0.1)\">\n       <use xlink:href=\"#DejaVuSans-51\"/>\n       <use x=\"63.623047\" xlink:href=\"#DejaVuSans-48\"/>\n      </g>\n     </g>\n    </g>\n   </g>\n   <g id=\"patch_3\">\n    <path d=\"M 26.925 225.041719 \nL 26.925 7.601719 \n\" style=\"fill:none;stroke:#000000;stroke-linecap:square;stroke-linejoin:miter;stroke-width:0.8;\"/>\n   </g>\n   <g id=\"patch_4\">\n    <path d=\"M 244.365 225.041719 \nL 244.365 7.601719 \n\" style=\"fill:none;stroke:#000000;stroke-linecap:square;stroke-linejoin:miter;stroke-width:0.8;\"/>\n   </g>\n   <g id=\"patch_5\">\n    <path d=\"M 26.925 225.041719 \nL 244.365 225.041719 \n\" style=\"fill:none;stroke:#000000;stroke-linecap:square;stroke-linejoin:miter;stroke-width:0.8;\"/>\n   </g>\n   <g id=\"patch_6\">\n    <path d=\"M 26.925 7.601719 \nL 244.365 7.601719 \n\" style=\"fill:none;stroke:#000000;stroke-linecap:square;stroke-linejoin:miter;stroke-width:0.8;\"/>\n   </g>\n  </g>\n </g>\n <defs>\n  <clipPath id=\"paf1b0c223e\">\n   <rect height=\"217.44\" width=\"217.44\" x=\"26.925\" y=\"7.601719\"/>\n  </clipPath>\n </defs>\n</svg>\n",
      "image/png": "[encoded data removed]"
     },
     "metadata": {
      "needs_background": "light"
     }
    }
   ],
   "source": [
    "image, label = train_data[0]\n",
    "print(classes[label])\n",
    "imshow(image.permute(1, 2, 0))"
   ]
  },
  {
   "cell_type": "code",
   "execution_count": 21,
   "metadata": {
    "tags": []
   },
   "outputs": [
    {
     "output_type": "stream",
     "name": "stdout",
     "text": "cat\n"
    },
    {
     "output_type": "execute_result",
     "data": {
      "text/plain": "&lt;matplotlib.image.AxesImage at 0x7ff45d1f9ac0&gt;"
     },
     "metadata": {},
     "execution_count": 21
    },
    {
     "output_type": "display_data",
     "data": {
      "text/plain": "&lt;Figure size 432x288 with 1 Axes&gt;",
      "image/svg+xml": "<?xml version=\"1.0\" encoding=\"utf-8\" standalone=\"no\"?>\n<!DOCTYPE svg PUBLIC \"-//W3C//DTD SVG 1.1//EN\"\n  \"http://www.w3.org/Graphics/SVG/1.1/DTD/svg11.dtd\">\n<!-- Created with matplotlib (https://matplotlib.org/) -->\n<svg height=\"248.919844pt\" version=\"1.1\" viewBox=\"0 0 251.565 248.919844\" width=\"251.565pt\" xmlns=\"http://www.w3.org/2000/svg\" xmlns:xlink=\"http://www.w3.org/1999/xlink\">\n <defs>\n  <style type=\"text/css\">\n*{stroke-linecap:butt;stroke-linejoin:round;}\n  </style>\n </defs>\n <g id=\"figure_1\">\n  <g id=\"patch_1\">\n   <path d=\"M 0 248.919844 \nL 251.565 248.919844 \nL 251.565 0 \nL 0 0 \nz\n\" style=\"fill:none;\"/>\n  </g>\n  <g id=\"axes_1\">\n   <g id=\"patch_2\">\n    <path d=\"M 26.925 225.041719 \nL 244.365 225.041719 \nL 244.365 7.601719 \nL 26.925 7.601719 \nz\n\" style=\"fill:#ffffff;\"/>\n   </g>\n   <g clip-path=\"url(#p8af346f355)\">\n    <image height=\"218\" id=\"imaged8b33e6f65\" transform=\"scale(1 -1)translate(0 -218)\" width=\"218\" x=\"26.925\" xlink:href=\"data:image/png;base64,\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\" y=\"-7.041719\"/>\n   </g>\n   <g id=\"matplotlib.axis_1\">\n    <g id=\"xtick_1\">\n     <g id=\"line2d_1\">\n      <defs>\n       <path d=\"M 0 0 \nL 0 3.5 \n\" id=\"m5670b6b21c\" style=\"stroke:#000000;stroke-width:0.8;\"/>\n      </defs>\n      <g>\n       <use style=\"stroke:#000000;stroke-width:0.8;\" x=\"30.3225\" xlink:href=\"#m5670b6b21c\" y=\"225.041719\"/>\n      </g>\n     </g>\n     <g id=\"text_1\">\n      <!-- 0 -->\n      <defs>\n       <path d=\"M 31.78125 66.40625 \nQ 24.171875 66.40625 20.328125 58.90625 \nQ 16.5 51.421875 16.5 36.375 \nQ 16.5 21.390625 20.328125 13.890625 \nQ 24.171875 6.390625 31.78125 6.390625 \nQ 39.453125 6.390625 43.28125 13.890625 \nQ 47.125 21.390625 47.125 36.375 \nQ 47.125 51.421875 43.28125 58.90625 \nQ 39.453125 66.40625 31.78125 66.40625 \nz\nM 31.78125 74.21875 \nQ 44.046875 74.21875 50.515625 64.515625 \nQ 56.984375 54.828125 56.984375 36.375 \nQ 56.984375 17.96875 50.515625 8.265625 \nQ 44.046875 -1.421875 31.78125 -1.421875 \nQ 19.53125 -1.421875 13.0625 8.265625 \nQ 6.59375 17.96875 6.59375 36.375 \nQ 6.59375 54.828125 13.0625 64.515625 \nQ 19.53125 74.21875 31.78125 74.21875 \nz\n\" id=\"DejaVuSans-48\"/>\n      </defs>\n      <g transform=\"translate(27.14125 239.640156)scale(0.1 -0.1)\">\n       <use xlink:href=\"#DejaVuSans-48\"/>\n      </g>\n     </g>\n    </g>\n    <g id=\"xtick_2\">\n     <g id=\"line2d_2\">\n      <g>\n       <use style=\"stroke:#000000;stroke-width:0.8;\" x=\"64.2975\" xlink:href=\"#m5670b6b21c\" y=\"225.041719\"/>\n      </g>\n     </g>\n     <g id=\"text_2\">\n      <!-- 5 -->\n      <defs>\n       <path d=\"M 10.796875 72.90625 \nL 49.515625 72.90625 \nL 49.515625 64.59375 \nL 19.828125 64.59375 \nL 19.828125 46.734375 \nQ 21.96875 47.46875 24.109375 47.828125 \nQ 26.265625 48.1875 28.421875 48.1875 \nQ 40.625 48.1875 47.75 41.5 \nQ 54.890625 34.8125 54.890625 23.390625 \nQ 54.890625 11.625 47.5625 5.09375 \nQ 40.234375 -1.421875 26.90625 -1.421875 \nQ 22.3125 -1.421875 17.546875 -0.640625 \nQ 12.796875 0.140625 7.71875 1.703125 \nL 7.71875 11.625 \nQ 12.109375 9.234375 16.796875 8.0625 \nQ 21.484375 6.890625 26.703125 6.890625 \nQ 35.15625 6.890625 40.078125 11.328125 \nQ 45.015625 15.765625 45.015625 23.390625 \nQ 45.015625 31 40.078125 35.4375 \nQ 35.15625 39.890625 26.703125 39.890625 \nQ 22.75 39.890625 18.8125 39.015625 \nQ 14.890625 38.140625 10.796875 36.28125 \nz\n\" id=\"DejaVuSans-53\"/>\n      </defs>\n      <g transform=\"translate(61.11625 239.640156)scale(0.1 -0.1)\">\n       <use xlink:href=\"#DejaVuSans-53\"/>\n      </g>\n     </g>\n    </g>\n    <g id=\"xtick_3\">\n     <g id=\"line2d_3\">\n      <g>\n       <use style=\"stroke:#000000;stroke-width:0.8;\" x=\"98.2725\" xlink:href=\"#m5670b6b21c\" y=\"225.041719\"/>\n      </g>\n     </g>\n     <g id=\"text_3\">\n      <!-- 10 -->\n      <defs>\n       <path d=\"M 12.40625 8.296875 \nL 28.515625 8.296875 \nL 28.515625 63.921875 \nL 10.984375 60.40625 \nL 10.984375 69.390625 \nL 28.421875 72.90625 \nL 38.28125 72.90625 \nL 38.28125 8.296875 \nL 54.390625 8.296875 \nL 54.390625 0 \nL 12.40625 0 \nz\n\" id=\"DejaVuSans-49\"/>\n      </defs>\n      <g transform=\"translate(91.91 239.640156)scale(0.1 -0.1)\">\n       <use xlink:href=\"#DejaVuSans-49\"/>\n       <use x=\"63.623047\" xlink:href=\"#DejaVuSans-48\"/>\n      </g>\n     </g>\n    </g>\n    <g id=\"xtick_4\">\n     <g id=\"line2d_4\">\n      <g>\n       <use style=\"stroke:#000000;stroke-width:0.8;\" x=\"132.2475\" xlink:href=\"#m5670b6b21c\" y=\"225.041719\"/>\n      </g>\n     </g>\n     <g id=\"text_4\">\n      <!-- 15 -->\n      <g transform=\"translate(125.885 239.640156)scale(0.1 -0.1)\">\n       <use xlink:href=\"#DejaVuSans-49\"/>\n       <use x=\"63.623047\" xlink:href=\"#DejaVuSans-53\"/>\n      </g>\n     </g>\n    </g>\n    <g id=\"xtick_5\">\n     <g id=\"line2d_5\">\n      <g>\n       <use style=\"stroke:#000000;stroke-width:0.8;\" x=\"166.2225\" xlink:href=\"#m5670b6b21c\" y=\"225.041719\"/>\n      </g>\n     </g>\n     <g id=\"text_5\">\n      <!-- 20 -->\n      <defs>\n       <path d=\"M 19.1875 8.296875 \nL 53.609375 8.296875 \nL 53.609375 0 \nL 7.328125 0 \nL 7.328125 8.296875 \nQ 12.9375 14.109375 22.625 23.890625 \nQ 32.328125 33.6875 34.8125 36.53125 \nQ 39.546875 41.84375 41.421875 45.53125 \nQ 43.3125 49.21875 43.3125 52.78125 \nQ 43.3125 58.59375 39.234375 62.25 \nQ 35.15625 65.921875 28.609375 65.921875 \nQ 23.96875 65.921875 18.8125 64.3125 \nQ 13.671875 62.703125 7.8125 59.421875 \nL 7.8125 69.390625 \nQ 13.765625 71.78125 18.9375 73 \nQ 24.125 74.21875 28.421875 74.21875 \nQ 39.75 74.21875 46.484375 68.546875 \nQ 53.21875 62.890625 53.21875 53.421875 \nQ 53.21875 48.921875 51.53125 44.890625 \nQ 49.859375 40.875 45.40625 35.40625 \nQ 44.1875 33.984375 37.640625 27.21875 \nQ 31.109375 20.453125 19.1875 8.296875 \nz\n\" id=\"DejaVuSans-50\"/>\n      </defs>\n      <g transform=\"translate(159.86 239.640156)scale(0.1 -0.1)\">\n       <use xlink:href=\"#DejaVuSans-50\"/>\n       <use x=\"63.623047\" xlink:href=\"#DejaVuSans-48\"/>\n      </g>\n     </g>\n    </g>\n    <g id=\"xtick_6\">\n     <g id=\"line2d_6\">\n      <g>\n       <use style=\"stroke:#000000;stroke-width:0.8;\" x=\"200.1975\" xlink:href=\"#m5670b6b21c\" y=\"225.041719\"/>\n      </g>\n     </g>\n     <g id=\"text_6\">\n      <!-- 25 -->\n      <g transform=\"translate(193.835 239.640156)scale(0.1 -0.1)\">\n       <use xlink:href=\"#DejaVuSans-50\"/>\n       <use x=\"63.623047\" xlink:href=\"#DejaVuSans-53\"/>\n      </g>\n     </g>\n    </g>\n    <g id=\"xtick_7\">\n     <g id=\"line2d_7\">\n      <g>\n       <use style=\"stroke:#000000;stroke-width:0.8;\" x=\"234.1725\" xlink:href=\"#m5670b6b21c\" y=\"225.041719\"/>\n      </g>\n     </g>\n     <g id=\"text_7\">\n      <!-- 30 -->\n      <defs>\n       <path d=\"M 40.578125 39.3125 \nQ 47.65625 37.796875 51.625 33 \nQ 55.609375 28.21875 55.609375 21.1875 \nQ 55.609375 10.40625 48.1875 4.484375 \nQ 40.765625 -1.421875 27.09375 -1.421875 \nQ 22.515625 -1.421875 17.65625 -0.515625 \nQ 12.796875 0.390625 7.625 2.203125 \nL 7.625 11.71875 \nQ 11.71875 9.328125 16.59375 8.109375 \nQ 21.484375 6.890625 26.8125 6.890625 \nQ 36.078125 6.890625 40.9375 10.546875 \nQ 45.796875 14.203125 45.796875 21.1875 \nQ 45.796875 27.640625 41.28125 31.265625 \nQ 36.765625 34.90625 28.71875 34.90625 \nL 20.21875 34.90625 \nL 20.21875 43.015625 \nL 29.109375 43.015625 \nQ 36.375 43.015625 40.234375 45.921875 \nQ 44.09375 48.828125 44.09375 54.296875 \nQ 44.09375 59.90625 40.109375 62.90625 \nQ 36.140625 65.921875 28.71875 65.921875 \nQ 24.65625 65.921875 20.015625 65.03125 \nQ 15.375 64.15625 9.8125 62.3125 \nL 9.8125 71.09375 \nQ 15.4375 72.65625 20.34375 73.4375 \nQ 25.25 74.21875 29.59375 74.21875 \nQ 40.828125 74.21875 47.359375 69.109375 \nQ 53.90625 64.015625 53.90625 55.328125 \nQ 53.90625 49.265625 50.4375 45.09375 \nQ 46.96875 40.921875 40.578125 39.3125 \nz\n\" id=\"DejaVuSans-51\"/>\n      </defs>\n      <g transform=\"translate(227.81 239.640156)scale(0.1 -0.1)\">\n       <use xlink:href=\"#DejaVuSans-51\"/>\n       <use x=\"63.623047\" xlink:href=\"#DejaVuSans-48\"/>\n      </g>\n     </g>\n    </g>\n   </g>\n   <g id=\"matplotlib.axis_2\">\n    <g id=\"ytick_1\">\n     <g id=\"line2d_8\">\n      <defs>\n       <path d=\"M 0 0 \nL -3.5 0 \n\" id=\"mee477119a8\" style=\"stroke:#000000;stroke-width:0.8;\"/>\n      </defs>\n      <g>\n       <use style=\"stroke:#000000;stroke-width:0.8;\" x=\"26.925\" xlink:href=\"#mee477119a8\" y=\"10.999219\"/>\n      </g>\n     </g>\n     <g id=\"text_8\">\n      <!-- 0 -->\n      <g transform=\"translate(13.5625 14.798437)scale(0.1 -0.1)\">\n       <use xlink:href=\"#DejaVuSans-48\"/>\n      </g>\n     </g>\n    </g>\n    <g id=\"ytick_2\">\n     <g id=\"line2d_9\">\n      <g>\n       <use style=\"stroke:#000000;stroke-width:0.8;\" x=\"26.925\" xlink:href=\"#mee477119a8\" y=\"44.974219\"/>\n      </g>\n     </g>\n     <g id=\"text_9\">\n      <!-- 5 -->\n      <g transform=\"translate(13.5625 48.773437)scale(0.1 -0.1)\">\n       <use xlink:href=\"#DejaVuSans-53\"/>\n      </g>\n     </g>\n    </g>\n    <g id=\"ytick_3\">\n     <g id=\"line2d_10\">\n      <g>\n       <use style=\"stroke:#000000;stroke-width:0.8;\" x=\"26.925\" xlink:href=\"#mee477119a8\" y=\"78.949219\"/>\n      </g>\n     </g>\n     <g id=\"text_10\">\n      <!-- 10 -->\n      <g transform=\"translate(7.2 82.748437)scale(0.1 -0.1)\">\n       <use xlink:href=\"#DejaVuSans-49\"/>\n       <use x=\"63.623047\" xlink:href=\"#DejaVuSans-48\"/>\n      </g>\n     </g>\n    </g>\n    <g id=\"ytick_4\">\n     <g id=\"line2d_11\">\n      <g>\n       <use style=\"stroke:#000000;stroke-width:0.8;\" x=\"26.925\" xlink:href=\"#mee477119a8\" y=\"112.924219\"/>\n      </g>\n     </g>\n     <g id=\"text_11\">\n      <!-- 15 -->\n      <g transform=\"translate(7.2 116.723437)scale(0.1 -0.1)\">\n       <use xlink:href=\"#DejaVuSans-49\"/>\n       <use x=\"63.623047\" xlink:href=\"#DejaVuSans-53\"/>\n      </g>\n     </g>\n    </g>\n    <g id=\"ytick_5\">\n     <g id=\"line2d_12\">\n      <g>\n       <use style=\"stroke:#000000;stroke-width:0.8;\" x=\"26.925\" xlink:href=\"#mee477119a8\" y=\"146.899219\"/>\n      </g>\n     </g>\n     <g id=\"text_12\">\n      <!-- 20 -->\n      <g transform=\"translate(7.2 150.698437)scale(0.1 -0.1)\">\n       <use xlink:href=\"#DejaVuSans-50\"/>\n       <use x=\"63.623047\" xlink:href=\"#DejaVuSans-48\"/>\n      </g>\n     </g>\n    </g>\n    <g id=\"ytick_6\">\n     <g id=\"line2d_13\">\n      <g>\n       <use style=\"stroke:#000000;stroke-width:0.8;\" x=\"26.925\" xlink:href=\"#mee477119a8\" y=\"180.874219\"/>\n      </g>\n     </g>\n     <g id=\"text_13\">\n      <!-- 25 -->\n      <g transform=\"translate(7.2 184.673437)scale(0.1 -0.1)\">\n       <use xlink:href=\"#DejaVuSans-50\"/>\n       <use x=\"63.623047\" xlink:href=\"#DejaVuSans-53\"/>\n      </g>\n     </g>\n    </g>\n    <g id=\"ytick_7\">\n     <g id=\"line2d_14\">\n      <g>\n       <use style=\"stroke:#000000;stroke-width:0.8;\" x=\"26.925\" xlink:href=\"#mee477119a8\" y=\"214.849219\"/>\n      </g>\n     </g>\n     <g id=\"text_14\">\n      <!-- 30 -->\n      <g transform=\"translate(7.2 218.648437)scale(0.1 -0.1)\">\n       <use xlink:href=\"#DejaVuSans-51\"/>\n       <use x=\"63.623047\" xlink:href=\"#DejaVuSans-48\"/>\n      </g>\n     </g>\n    </g>\n   </g>\n   <g id=\"patch_3\">\n    <path d=\"M 26.925 225.041719 \nL 26.925 7.601719 \n\" style=\"fill:none;stroke:#000000;stroke-linecap:square;stroke-linejoin:miter;stroke-width:0.8;\"/>\n   </g>\n   <g id=\"patch_4\">\n    <path d=\"M 244.365 225.041719 \nL 244.365 7.601719 \n\" style=\"fill:none;stroke:#000000;stroke-linecap:square;stroke-linejoin:miter;stroke-width:0.8;\"/>\n   </g>\n   <g id=\"patch_5\">\n    <path d=\"M 26.925 225.041719 \nL 244.365 225.041719 \n\" style=\"fill:none;stroke:#000000;stroke-linecap:square;stroke-linejoin:miter;stroke-width:0.8;\"/>\n   </g>\n   <g id=\"patch_6\">\n    <path d=\"M 26.925 7.601719 \nL 244.365 7.601719 \n\" style=\"fill:none;stroke:#000000;stroke-linecap:square;stroke-linejoin:miter;stroke-width:0.8;\"/>\n   </g>\n  </g>\n </g>\n <defs>\n  <clipPath id=\"p8af346f355\">\n   <rect height=\"217.44\" width=\"217.44\" x=\"26.925\" y=\"7.601719\"/>\n  </clipPath>\n </defs>\n</svg>\n",
      "image/png": "[encoded data removed]"
     },
     "metadata": {
      "needs_background": "light"
     }
    }
   ],
   "source": [
    "image, label = valid_data[0]\n",
    "print(classes[label])\n",
    "imshow(image.permute(1, 2, 0))"
   ]
  },
  {
   "source": [
    "For being able to pass the data to the neural networks we need to use a dataloader object"
   ],
   "cell_type": "markdown",
   "metadata": {}
  },
  {
   "cell_type": "code",
   "execution_count": 22,
   "metadata": {},
   "outputs": [],
   "source": [
    "train_dataloader = DataLoader(dataset=train_data, batch_size=10, shuffle=True)\n",
    "valid_dataloader = DataLoader(dataset=valid_data, batch_size=10, shuffle=True)"
   ]
  },
  {
   "source": [
    "Before we star building the models, we define a funcion which will help us visualize a summary of the models"
   ],
   "cell_type": "markdown",
   "metadata": {}
  },
  {
   "cell_type": "code",
   "execution_count": 23,
   "metadata": {},
   "outputs": [],
   "source": [
    "# Shows a summary of the network\n",
    "def network_summary(network, input_size):\n",
    "    summary(network, input_data = input_size)\n",
    "    return None"
   ]
  },
  {
   "source": [
    "## 2. Networks \n",
    "\n",
    "In this section we'll define the neural network we are going to work with. We'll use two networks, one built from scratch and an ResNet-18 based model, which we'll create using the predefined models provided by PyTorch\n",
    "\n",
    "### 2.1 Model Fron Scratch"
   ],
   "cell_type": "markdown",
   "metadata": {}
  },
  {
   "cell_type": "code",
   "execution_count": 24,
   "metadata": {},
   "outputs": [],
   "source": [
    "class custom_network(nn.Module):\n",
    "    # Constructor\n",
    "    def __init__(self):\n",
    "        super(custom_network, self).__init__()\n",
    "        # Layers\n",
    "        self.conv1 = nn.Conv2d(in_channels=3, out_channels=6, kernel_size=5)\n",
    "        self.pool1 = nn.AvgPool2d(kernel_size=2, stride=2)\n",
    "        self.conv2 = nn.Conv2d(in_channels=6, out_channels=16, kernel_size=5)\n",
    "        self.pool2 = nn.AdaptiveAvgPool2d(output_size=(5,5))\n",
    "        self.fc1 = nn.Linear(in_features=16*5*5, out_features=84)\n",
    "        self.fc2 = nn.Linear(in_features=84, out_features=10)\n",
    "        \n",
    "    # Forward Pass\n",
    "    def forward(self, x):\n",
    "        x = F.relu(self.conv1(x))\n",
    "        x = self.pool1(x)\n",
    "        x = F.relu(self.conv2(x))\n",
    "        x = self.pool2(x)\n",
    "        x = torch.flatten(x,1)\n",
    "        x = F.relu(self.fc1(x))\n",
    "        x = self.fc2(x)\n",
    "        return x\n",
    "    \n",
    "    # Prints a summary of the network \n",
    "    def summary(self, input_size):\n",
    "        summary(self, input_data = input_size)\n",
    "        return None"
   ]
  },
  {
   "source": [
    "Let's instantiate an object of the custom_network class "
   ],
   "cell_type": "markdown",
   "metadata": {}
  },
  {
   "cell_type": "code",
   "execution_count": 25,
   "metadata": {
    "tags": []
   },
   "outputs": [
    {
     "output_type": "stream",
     "name": "stdout",
     "text": "------------------------------------------------------------------------------------------\nLayer (type:depth-idx)                   Output Shape              Param #\n==========================================================================================\n├─Conv2d: 1-1                            [-1, 6, 24, 24]           456\n├─AvgPool2d: 1-2                         [-1, 6, 12, 12]           --\n├─Conv2d: 1-3                            [-1, 16, 8, 8]            2,416\n├─AdaptiveAvgPool2d: 1-4                 [-1, 16, 5, 5]            --\n├─Linear: 1-5                            [-1, 84]                  33,684\n├─Linear: 1-6                            [-1, 10]                  850\n==========================================================================================\nTotal params: 37,406\nTrainable params: 37,406\nNon-trainable params: 0\nTotal mult-adds (M): 0.45\n------------------------------------------------------------------------------------------\nInput size (MB): 0.01\nForward/backward pass size (MB): 0.03\nParams size (MB): 0.14\nEstimated Total Size (MB): 0.19\n------------------------------------------------------------------------------------------\n"
    }
   ],
   "source": [
    "net_1 = custom_network()\n",
    "net_1.summary(input_size=(3,28,28))"
   ]
  },
  {
   "source": [
    "## 2.2 ResNet18 Based Model\n",
    "\n",
    "Now we create a network that is based on ResNet18"
   ],
   "cell_type": "markdown",
   "metadata": {}
  },
  {
   "cell_type": "code",
   "execution_count": 26,
   "metadata": {},
   "outputs": [],
   "source": [
    "def resnet_based_model(num_classes = 1000, pretrained = False):\n",
    "    if num_classes == 1000:\n",
    "        network = resnet18(pretrained = pretrained, num_classes = num_classes)\n",
    "    else:\n",
    "        network = resnet18(pretrained = pretrained)\n",
    "        fc_input_size = network.fc.in_features\n",
    "        network.fc = nn.Linear(in_features = fc_input_size, out_features = num_classes, bias = True)\n",
    "\n",
    "    return network"
   ]
  },
  {
   "source": [
    "Given that resnet18 is a function, not a class, we cannot create a son class that adds the summary functionality. However, we can display a summary of the model as follows"
   ],
   "cell_type": "markdown",
   "metadata": {}
  },
  {
   "cell_type": "code",
   "execution_count": 27,
   "metadata": {
    "tags": []
   },
   "outputs": [
    {
     "output_type": "stream",
     "name": "stdout",
     "text": "------------------------------------------------------------------------------------------\nLayer (type:depth-idx)                   Output Shape              Param #\n==========================================================================================\n├─Conv2d: 1-1                            [-1, 64, 16, 16]          9,408\n├─BatchNorm2d: 1-2                       [-1, 64, 16, 16]          128\n├─ReLU: 1-3                              [-1, 64, 16, 16]          --\n├─MaxPool2d: 1-4                         [-1, 64, 8, 8]            --\n├─Sequential: 1-5                        [-1, 64, 8, 8]            --\n|    └─BasicBlock: 2-1                   [-1, 64, 8, 8]            --\n|    |    └─Conv2d: 3-1                  [-1, 64, 8, 8]            36,864\n|    |    └─BatchNorm2d: 3-2             [-1, 64, 8, 8]            128\n|    |    └─ReLU: 3-3                    [-1, 64, 8, 8]            --\n|    |    └─Conv2d: 3-4                  [-1, 64, 8, 8]            36,864\n|    |    └─BatchNorm2d: 3-5             [-1, 64, 8, 8]            128\n|    |    └─ReLU: 3-6                    [-1, 64, 8, 8]            --\n|    └─BasicBlock: 2-2                   [-1, 64, 8, 8]            --\n|    |    └─Conv2d: 3-7                  [-1, 64, 8, 8]            36,864\n|    |    └─BatchNorm2d: 3-8             [-1, 64, 8, 8]            128\n|    |    └─ReLU: 3-9                    [-1, 64, 8, 8]            --\n|    |    └─Conv2d: 3-10                 [-1, 64, 8, 8]            36,864\n|    |    └─BatchNorm2d: 3-11            [-1, 64, 8, 8]            128\n|    |    └─ReLU: 3-12                   [-1, 64, 8, 8]            --\n├─Sequential: 1-6                        [-1, 128, 4, 4]           --\n|    └─BasicBlock: 2-3                   [-1, 128, 4, 4]           --\n|    |    └─Conv2d: 3-13                 [-1, 128, 4, 4]           73,728\n|    |    └─BatchNorm2d: 3-14            [-1, 128, 4, 4]           256\n|    |    └─ReLU: 3-15                   [-1, 128, 4, 4]           --\n|    |    └─Conv2d: 3-16                 [-1, 128, 4, 4]           147,456\n|    |    └─BatchNorm2d: 3-17            [-1, 128, 4, 4]           256\n|    |    └─Sequential: 3-18             [-1, 128, 4, 4]           8,448\n|    |    └─ReLU: 3-19                   [-1, 128, 4, 4]           --\n|    └─BasicBlock: 2-4                   [-1, 128, 4, 4]           --\n|    |    └─Conv2d: 3-20                 [-1, 128, 4, 4]           147,456\n|    |    └─BatchNorm2d: 3-21            [-1, 128, 4, 4]           256\n|    |    └─ReLU: 3-22                   [-1, 128, 4, 4]           --\n|    |    └─Conv2d: 3-23                 [-1, 128, 4, 4]           147,456\n|    |    └─BatchNorm2d: 3-24            [-1, 128, 4, 4]           256\n|    |    └─ReLU: 3-25                   [-1, 128, 4, 4]           --\n├─Sequential: 1-7                        [-1, 256, 2, 2]           --\n|    └─BasicBlock: 2-5                   [-1, 256, 2, 2]           --\n|    |    └─Conv2d: 3-26                 [-1, 256, 2, 2]           294,912\n|    |    └─BatchNorm2d: 3-27            [-1, 256, 2, 2]           512\n|    |    └─ReLU: 3-28                   [-1, 256, 2, 2]           --\n|    |    └─Conv2d: 3-29                 [-1, 256, 2, 2]           589,824\n|    |    └─BatchNorm2d: 3-30            [-1, 256, 2, 2]           512\n|    |    └─Sequential: 3-31             [-1, 256, 2, 2]           33,280\n|    |    └─ReLU: 3-32                   [-1, 256, 2, 2]           --\n|    └─BasicBlock: 2-6                   [-1, 256, 2, 2]           --\n|    |    └─Conv2d: 3-33                 [-1, 256, 2, 2]           589,824\n|    |    └─BatchNorm2d: 3-34            [-1, 256, 2, 2]           512\n|    |    └─ReLU: 3-35                   [-1, 256, 2, 2]           --\n|    |    └─Conv2d: 3-36                 [-1, 256, 2, 2]           589,824\n|    |    └─BatchNorm2d: 3-37            [-1, 256, 2, 2]           512\n|    |    └─ReLU: 3-38                   [-1, 256, 2, 2]           --\n├─Sequential: 1-8                        [-1, 512, 1, 1]           --\n|    └─BasicBlock: 2-7                   [-1, 512, 1, 1]           --\n|    |    └─Conv2d: 3-39                 [-1, 512, 1, 1]           1,179,648\n|    |    └─BatchNorm2d: 3-40            [-1, 512, 1, 1]           1,024\n|    |    └─ReLU: 3-41                   [-1, 512, 1, 1]           --\n|    |    └─Conv2d: 3-42                 [-1, 512, 1, 1]           2,359,296\n|    |    └─BatchNorm2d: 3-43            [-1, 512, 1, 1]           1,024\n|    |    └─Sequential: 3-44             [-1, 512, 1, 1]           132,096\n|    |    └─ReLU: 3-45                   [-1, 512, 1, 1]           --\n|    └─BasicBlock: 2-8                   [-1, 512, 1, 1]           --\n|    |    └─Conv2d: 3-46                 [-1, 512, 1, 1]           2,359,296\n|    |    └─BatchNorm2d: 3-47            [-1, 512, 1, 1]           1,024\n|    |    └─ReLU: 3-48                   [-1, 512, 1, 1]           --\n|    |    └─Conv2d: 3-49                 [-1, 512, 1, 1]           2,359,296\n|    |    └─BatchNorm2d: 3-50            [-1, 512, 1, 1]           1,024\n|    |    └─ReLU: 3-51                   [-1, 512, 1, 1]           --\n├─AdaptiveAvgPool2d: 1-9                 [-1, 512, 1, 1]           --\n├─Linear: 1-10                           [-1, 10]                  5,130\n==========================================================================================\nTotal params: 11,181,642\nTrainable params: 11,181,642\nNon-trainable params: 0\nTotal mult-adds (M): 59.52\n------------------------------------------------------------------------------------------\nInput size (MB): 0.01\nForward/backward pass size (MB): 0.77\nParams size (MB): 42.65\nEstimated Total Size (MB): 43.44\n------------------------------------------------------------------------------------------\n"
    }
   ],
   "source": [
    "resnet18_net = resnet_based_model(num_classes=10, pretrained=True)\n",
    "network_summary(resnet18_net, input_size=(3,32,32))"
   ]
  },
  {
   "source": [
    "## 3. Train the Models\n",
    "\n",
    "## 3.1. Custom Network\n",
    "\n",
    "### 3.1.1 Loss Function and Optimizer"
   ],
   "cell_type": "markdown",
   "metadata": {}
  },
  {
   "cell_type": "code",
   "execution_count": 28,
   "metadata": {},
   "outputs": [],
   "source": [
    "loss_fn = nn.CrossEntropyLoss()\n",
    "optimizer = optim.SGD(net_1.parameters(), lr=0.001, momentum=0.9)"
   ]
  },
  {
   "source": [
    "### 3.1.2 Training "
   ],
   "cell_type": "markdown",
   "metadata": {}
  },
  {
   "cell_type": "code",
   "execution_count": 29,
   "metadata": {},
   "outputs": [],
   "source": [
    "def predict_labels(output):\n",
    "    _, pred_labels = torch.max(output, dim = 1)\n",
    "    return pred_labels\n",
    "\n",
    "def correct_predictions(output, labels):\n",
    "    pred_labels = predict_labels(output)\n",
    "    corr_pred = torch.sum(pred_labels == labels).item()\n",
    "    return corr_pred\n",
    "\n",
    "def print_training_progress(epoch, epochs, batch_num):\n",
    "    print('Epoch: ' + str(epoch + 1) + ', Batch: ' + str(batch_num + 1) + '/' + str(epochs))\n",
    "    return None\n",
    "\n",
    "def print_performance(metrics):\n",
    "    epoch = metrics['epoch']\n",
    "    train_loss = metrics['train_loss']\n",
    "    train_acc = metrics['train_acc']\n",
    "    valid_loss = metrics['valid_loss']\n",
    "    valid_acc = metrics['valid_acc']\n",
    "    print('Epoch: ' + str(epoch + 1) + ' || Train loss = ' + str(round(train_loss,2)) + ', Train Acc = ' + str(round(train_acc,2)) + ', Valid Loss = ' + str(round(valid_loss,2)) + ', Valid Acc = ' + str(round(valid_acc,2)))\n",
    "    return None"
   ]
  },
  {
   "cell_type": "code",
   "execution_count": 30,
   "metadata": {
    "tags": []
   },
   "outputs": [
    {
     "output_type": "stream",
     "name": "stdout",
     "text": "Epoch: 1 || Train loss = 1.94, Train Acc = 285.32, Valid Loss = 1.63, Valid Acc = 412.6\nEpoch: 2 || Train loss = 1.58, Train Acc = 434.16, Valid Loss = 1.49, Valid Acc = 464.8\nEpoch: 3 || Train loss = 1.46, Train Acc = 477.38, Valid Loss = 1.4, Valid Acc = 497.1\nEpoch: 4 || Train loss = 1.38, Train Acc = 506.1, Valid Loss = 1.35, Valid Acc = 515.4\nEpoch: 5 || Train loss = 1.32, Train Acc = 529.72, Valid Loss = 1.34, Valid Acc = 528.2\nEpoch: 6 || Train loss = 1.27, Train Acc = 548.62, Valid Loss = 1.27, Valid Acc = 549.1\nEpoch: 7 || Train loss = 1.22, Train Acc = 565.42, Valid Loss = 1.26, Valid Acc = 557.1\nEpoch: 8 || Train loss = 1.18, Train Acc = 582.42, Valid Loss = 1.23, Valid Acc = 563.9\nEpoch: 9 || Train loss = 1.15, Train Acc = 594.44, Valid Loss = 1.24, Valid Acc = 559.9\nEpoch: 10 || Train loss = 1.12, Train Acc = 604.16, Valid Loss = 1.23, Valid Acc = 565.9\nEpoch: 11 || Train loss = 1.09, Train Acc = 614.04, Valid Loss = 1.18, Valid Acc = 582.1\nEpoch: 12 || Train loss = 1.06, Train Acc = 624.66, Valid Loss = 1.2, Valid Acc = 582.6\nEpoch: 13 || Train loss = 1.04, Train Acc = 634.62, Valid Loss = 1.21, Valid Acc = 588.0\nEpoch: 14 || Train loss = 1.02, Train Acc = 642.7, Valid Loss = 1.22, Valid Acc = 576.8\nEpoch: 15 || Train loss = 1.0, Train Acc = 647.6, Valid Loss = 1.25, Valid Acc = 569.9\nEpoch: 16 || Train loss = 0.98, Train Acc = 655.36, Valid Loss = 1.16, Valid Acc = 598.9\nEpoch: 17 || Train loss = 0.96, Train Acc = 660.74, Valid Loss = 1.18, Valid Acc = 590.4\nEpoch: 18 || Train loss = 0.94, Train Acc = 667.56, Valid Loss = 1.21, Valid Acc = 584.3\nEpoch: 19 || Train loss = 0.93, Train Acc = 672.54, Valid Loss = 1.16, Valid Acc = 596.5\nEpoch: 20 || Train loss = 0.91, Train Acc = 678.9, Valid Loss = 1.18, Valid Acc = 592.7\nFinished Training, Hurray!!! :D\n"
    }
   ],
   "source": [
    "epochs = 20\n",
    "save_best_model = True\n",
    "best_accuracy = - np.inf\n",
    "\n",
    "metrics = pd.DataFrame(columns=['epoch', 'train_loss', 'train_acc', 'valid_loss', 'valid_acc'])\n",
    "\n",
    "# Training loop, loops over the dataset epochs times\n",
    "for epoch in range(epochs):\n",
    "\n",
    "    #TRAINING\n",
    "    net_1.train()\n",
    "    # Set the metrics to 0 for this epoch\n",
    "    train_loss = 0\n",
    "    train_acc = 0\n",
    "\n",
    "    # Trains over the training set\n",
    "    for batch_num, data in enumerate(train_dataloader):\n",
    "        # Print progess \n",
    "        #print_training_progress(epoch, len(train_dataloader), batch_num)\n",
    "        # Gets the data\n",
    "        images, labels = data\n",
    "        # training step\n",
    "        optimizer.zero_grad()\n",
    "        output = net_1(images)\n",
    "        loss = loss_fn(output, labels)\n",
    "        loss.backward()\n",
    "        optimizer.step()\n",
    "        # Metrics\n",
    "        train_loss = train_loss + loss.item()\n",
    "        train_acc = train_acc + correct_predictions(output, labels)\n",
    "        \n",
    "    # Calculates the metrics for the training set\n",
    "    total_images_train = len(train_dataloader)\n",
    "    train_loss = train_loss / total_images_train\n",
    "    train_acc = (train_acc / total_images_train) * 100\n",
    "\n",
    "    # VALIDATION\n",
    "    net_1.eval()\n",
    "    valid_loss = 0\n",
    "    valid_acc = 0\n",
    "\n",
    "    for data in valid_dataloader:\n",
    "        # Gets the data\n",
    "        images, labels = data\n",
    "        # Evaluates\n",
    "        output = net_1(images)\n",
    "        # Metrics\n",
    "        loss = loss_fn(output, labels)\n",
    "        valid_loss = valid_loss + loss.item()\n",
    "        valid_acc = valid_acc + correct_predictions(output, labels)\n",
    "\n",
    "    # Calculates the metrics for the validation set\n",
    "    total_images_val = len(valid_dataloader)\n",
    "    valid_loss = valid_loss / total_images_val\n",
    "    valid_acc = (valid_acc / total_images_val) * 100\n",
    "\n",
    "    # Saves the metrics per epoch\n",
    "    metrics_epoch = {'epoch': epoch, 'train_loss': train_loss, 'train_acc': train_acc, 'valid_loss': valid_loss, 'valid_acc': valid_acc}\n",
    "    # Stores the epoch's metrics\n",
    "    metrics = metrics.append(metrics_epoch, ignore_index = True)\n",
    "    # Saves the metrics history so far\n",
    "    metrics.to_csv('metrics_history.csv', index = False)\n",
    "    # Print the performance for the epoch\n",
    "    print_performance(metrics_epoch)\n",
    "    # Saves the model\n",
    "    torch.save(net_1.state_dict, 'last_wiehgts.pt')\n",
    "    # Saves the best model\n",
    "    if save_best_model and valid_acc > best_accuracy:\n",
    "        torch.save(net_1.state_dict(), 'best_weights.pt')\n",
    "        best_accuracy = valid_acc     \n",
    "    \n",
    "print('Finished Training, Hurray!!! :D')"
   ]
  }
 ]
}